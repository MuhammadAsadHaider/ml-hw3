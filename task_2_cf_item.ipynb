{
  "cells": [
    {
      "cell_type": "code",
      "execution_count": 2,
      "metadata": {
        "id": "dBNQ2d1n3rft"
      },
      "outputs": [],
      "source": [
        "# Item based collaborative filtering\n",
        "\n",
        "import pandas as pd\n",
        "import numpy as np\n",
        "import matplotlib.pyplot as plt\n",
        "from sklearn.model_selection import train_test_split\n",
        "from sklearn.metrics import mean_squared_error, mean_absolute_error\n",
        "from math import sqrt\n",
        "from tqdm import tqdm\n",
        "from sklearn.model_selection import KFold\n",
        "import pickle"
      ]
    },
    {
      "cell_type": "code",
      "execution_count": 4,
      "metadata": {
        "id": "VQOTWUFQ3rfv"
      },
      "outputs": [],
      "source": [
        "# Read the data\n",
        "data = pd.read_csv('ratings_small.csv')"
      ]
    },
    {
      "cell_type": "code",
      "execution_count": 5,
      "metadata": {
        "id": "pQ7vZTbe3rfw"
      },
      "outputs": [],
      "source": [
        "# Mean squared difference function\n",
        "def msd(x, y):\n",
        "    return np.mean((x - y)**2)\n",
        "\n",
        "# Cosine similarity function\n",
        "def cosine(x, y):\n",
        "    denominator = np.linalg.norm(x) * np.linalg.norm(y)\n",
        "    if denominator == 0:\n",
        "        return 0\n",
        "    return np.dot(x, y) / denominator\n",
        "\n",
        "# Pearson correlation function\n",
        "def pearson_correlation(x, y):\n",
        "    x_mean = np.mean(x)\n",
        "    y_mean = np.mean(y)\n",
        "    x = x - x_mean\n",
        "    y = y - y_mean\n",
        "    denominator = np.linalg.norm(x) * np.linalg.norm(y)\n",
        "    if denominator == 0:\n",
        "        return 0\n",
        "    return np.dot(x, y) / denominator"
      ]
    },
    {
      "cell_type": "code",
      "execution_count": 6,
      "metadata": {
        "id": "b2talR3Z3rfx"
      },
      "outputs": [],
      "source": [
        "# Compute the similarity matrix\n",
        "def compute_similarity_matrix(data, similarity_function):\n",
        "    # Create a matrix with the same size as the data\n",
        "    similarity_matrix = np.zeros((data.shape[0], data.shape[0]))\n",
        "\n",
        "    # similarity store\n",
        "    similarity_store = {}\n",
        "\n",
        "    for i in tqdm(range(data.shape[0])):\n",
        "        for j in range(data.shape[0]):\n",
        "            if (i,j) in similarity_store:\n",
        "                similarity_matrix[i, j] = similarity_store[(i,j)]\n",
        "            elif (j,i) in similarity_store:\n",
        "                similarity_matrix[i, j] = similarity_store[(j,i)]\n",
        "            else:\n",
        "                # Compute the similarity\n",
        "                similarity_matrix[i, j] = similarity_function(data[i, :], data[j, :])\n",
        "                similarity_store[(i,j)] = similarity_matrix[i, j]\n",
        "            \n",
        "    return similarity_matrix"
      ]
    },
    {
      "cell_type": "code",
      "execution_count": 7,
      "metadata": {
        "id": "J5pW6CtZ3rfy"
      },
      "outputs": [],
      "source": [
        "def item_collaborative_filtering(neighbours, movie_similarities, test_dataset, user_item_data):\n",
        "    predictions = []\n",
        "    actual = []\n",
        "    for row in test_dataset.iterrows():\n",
        "        # Get the user id and movie id\n",
        "        user_id = int(row[1]['userId'])\n",
        "        movie_id = int(row[1]['movieId'])\n",
        "\n",
        "        # Get the movie index\n",
        "        movie_index = user_item_data.index.get_loc(movie_id)\n",
        "\n",
        "        # Get the user index\n",
        "\n",
        "        try:\n",
        "            user_index = user_item_data.columns.get_loc(user_id)\n",
        "        except:\n",
        "            predictions.append(0)\n",
        "            actual.append(row[1]['rating'])\n",
        "            continue\n",
        "\n",
        "        # Get the movie similarity\n",
        "        movie_similarity = movie_similarities[movie_index, :]\n",
        "\n",
        "        # Get the known ratings\n",
        "        known_ratings = user_item_data.values[:, user_index]\n",
        "\n",
        "        # Get the top k neighbours\n",
        "        top_k_neighbours = np.argsort(movie_similarity)[-(neighbours+1):]\n",
        "\n",
        "        # exclude the movie itself\n",
        "        top_k_neighbours = top_k_neighbours[top_k_neighbours != movie_index]\n",
        "\n",
        "        # Get the top k similarity\n",
        "        top_k_similarity = movie_similarity[top_k_neighbours]\n",
        "\n",
        "        # Get the top k ratings\n",
        "        top_k_ratings = known_ratings[top_k_neighbours]\n",
        "\n",
        "        # Get the predicted rating\n",
        "        prediction = np.sum(top_k_similarity * top_k_ratings) / np.sum(np.abs(top_k_similarity))\n",
        "\n",
        "        # Append the prediction and actual\n",
        "        predictions.append(prediction)\n",
        "        actual.append(row[1]['rating'])\n",
        "    \n",
        "    return actual, predictions"
      ]
    },
    {
      "cell_type": "code",
      "execution_count": 8,
      "metadata": {
        "id": "9wRi4gMT3rf0"
      },
      "outputs": [],
      "source": [
        "# RMSE\n",
        "def rmse(actual, predictions):\n",
        "    return sqrt(mean_squared_error(actual, predictions))\n",
        "\n",
        "# MAE\n",
        "def mae(actual, predictions):\n",
        "    return mean_absolute_error(actual, predictions)"
      ]
    },
    {
      "cell_type": "code",
      "execution_count": 9,
      "metadata": {
        "id": "cKb9MWMu3rf3"
      },
      "outputs": [],
      "source": [
        "data_splits = KFold(n_splits=5, shuffle=True, random_state=42)"
      ]
    },
    {
      "cell_type": "code",
      "execution_count": 10,
      "metadata": {
        "id": "gkKQvSfOQw-d"
      },
      "outputs": [],
      "source": [
        "# Create a pivot table\n",
        "user_item_data = data.pivot(index = 'movieId', columns ='userId', values = 'rating').fillna(0)"
      ]
    },
    {
      "cell_type": "code",
      "execution_count": null,
      "metadata": {
        "colab": {
          "base_uri": "https://localhost:8080/"
        },
        "id": "oQTuQzAR3rf4",
        "outputId": "79abf8c5-44f2-445a-c8da-9caa6a09c25c"
      },
      "outputs": [
        {
          "name": "stderr",
          "output_type": "stream",
          "text": [
            "100%|██████████| 9066/9066 [17:12<00:00,  8.78it/s]\n",
            "100%|██████████| 9066/9066 [35:00<00:00,  4.32it/s]\n",
            "100%|██████████| 9066/9066 [14:44<00:00, 10.25it/s]\n"
          ]
        }
      ],
      "source": [
        "# Calculate the cosine similarity\n",
        "cosine_similarity = compute_similarity_matrix(user_item_data.values, cosine)\n",
        "\n",
        "# Calculate the pearson correlation\n",
        "pearson_similarity = compute_similarity_matrix(user_item_data.values, pearson_correlation)\n",
        "\n",
        "# Calculate the msd\n",
        "msd_similarity = compute_similarity_matrix(user_item_data.values, msd)"
      ]
    },
    {
      "cell_type": "code",
      "execution_count": 13,
      "metadata": {
        "colab": {
          "base_uri": "https://localhost:8080/"
        },
        "id": "dK2-2ygqRQHP",
        "outputId": "6d8d9a92-8689-4460-c3ba-f7c17c28e3f7"
      },
      "outputs": [
        {
          "name": "stderr",
          "output_type": "stream",
          "text": [
            "5it [00:55, 11.19s/it]"
          ]
        },
        {
          "name": "stdout",
          "output_type": "stream",
          "text": [
            "\n",
            "\n",
            "RMSE:  [2.164217527086999, 2.170070281726278, 2.162680516039309, 2.1553806867094436, 2.157794426607065]\n",
            "Average RMSE:  2.162028687633819\n",
            "MAE:  [1.8072340854355777, 1.8154017721772902, 1.801322610608136, 1.8028388250127116, 1.798433683762543]\n",
            "Average MAE:  1.8050461953992518\n"
          ]
        },
        {
          "name": "stderr",
          "output_type": "stream",
          "text": [
            "\n"
          ]
        }
      ],
      "source": [
        "# 5 fold cross validation for cosine similarity\n",
        "rmse_results = []\n",
        "mae_results = []\n",
        "\n",
        "for train_index, test_index in tqdm(data_splits.split(data)):\n",
        "    train = data.iloc[train_index]\n",
        "    test = data.iloc[test_index]\n",
        "    \n",
        "    # Get the actual and predictions\n",
        "    actual, predictions = item_collaborative_filtering(10, cosine_similarity, test, user_item_data)\n",
        "\n",
        "    # Calculate the rmse\n",
        "    rmse_results.append(rmse(actual, predictions))\n",
        "\n",
        "    # Calculate the mae\n",
        "    mae_results.append(mae(actual, predictions))\n",
        "\n",
        "print('\\n\\nRMSE: ', rmse_results)\n",
        "print('Average RMSE: ', np.mean(rmse_results))\n",
        "\n",
        "print('MAE: ', mae_results)\n",
        "print('Average MAE: ', np.mean(mae_results))"
      ]
    },
    {
      "cell_type": "code",
      "execution_count": 14,
      "metadata": {
        "colab": {
          "base_uri": "https://localhost:8080/"
        },
        "id": "SRp-82JNRSb0",
        "outputId": "e603499f-9c86-4d86-b886-da5cf369c60a"
      },
      "outputs": [
        {
          "name": "stderr",
          "output_type": "stream",
          "text": [
            "5it [01:15, 15.09s/it]"
          ]
        },
        {
          "name": "stdout",
          "output_type": "stream",
          "text": [
            "\n",
            "\n",
            "RMSE:  [2.287432098454437, 2.2971909162294675, 2.289509750423417, 2.2820662472814934, 2.2830480517513787]\n",
            "Average RMSE:  2.287849412828039\n",
            "MAE:  [1.9466892452745859, 1.9597581009407525, 1.94530371185581, 1.944566466304632, 1.939895409514854]\n",
            "Average MAE:  1.947242586778127\n"
          ]
        },
        {
          "name": "stderr",
          "output_type": "stream",
          "text": [
            "\n"
          ]
        }
      ],
      "source": [
        "# 5 fold cross validation for pearson similarity\n",
        "rmse_results = []\n",
        "mae_results = []\n",
        "\n",
        "for train_index, test_index in tqdm(data_splits.split(data)):\n",
        "    train = data.iloc[train_index]\n",
        "    test = data.iloc[test_index]\n",
        "    \n",
        "    # Get the actual and predictions\n",
        "    actual, predictions = item_collaborative_filtering(10, pearson_similarity, test, user_item_data)\n",
        "\n",
        "    # Calculate the rmse\n",
        "    rmse_results.append(rmse(actual, predictions))\n",
        "\n",
        "    # Calculate the mae\n",
        "    mae_results.append(mae(actual, predictions))\n",
        "\n",
        "print('\\n\\nRMSE: ', rmse_results)\n",
        "print('Average RMSE: ', np.mean(rmse_results))\n",
        "\n",
        "print('MAE: ', mae_results)\n",
        "print('Average MAE: ', np.mean(mae_results))"
      ]
    },
    {
      "cell_type": "code",
      "execution_count": 15,
      "metadata": {
        "colab": {
          "base_uri": "https://localhost:8080/"
        },
        "id": "Dy1KCArDRUGD",
        "outputId": "07fe2e6e-82b4-49cd-fdb1-a3a35cbcfe17"
      },
      "outputs": [
        {
          "name": "stderr",
          "output_type": "stream",
          "text": [
            "5it [01:09, 13.91s/it]"
          ]
        },
        {
          "name": "stdout",
          "output_type": "stream",
          "text": [
            "\n",
            "\n",
            "RMSE:  [2.058456160976849, 2.048987183262602, 2.0501454623117588, 2.042467537074433, 2.043562335059493]\n",
            "Average RMSE:  2.048723735737027\n",
            "MAE:  [1.6456935949272467, 1.6356884497783053, 1.643453611591157, 1.6274367276484398, 1.6284198609293616]\n",
            "Average MAE:  1.636138448974902\n"
          ]
        },
        {
          "name": "stderr",
          "output_type": "stream",
          "text": [
            "\n"
          ]
        }
      ],
      "source": [
        "# 5 fold cross validation for msd similarity\n",
        "rmse_results = []\n",
        "mae_results = []\n",
        "\n",
        "for train_index, test_index in tqdm(data_splits.split(data)):\n",
        "    train = data.iloc[train_index]\n",
        "    test = data.iloc[test_index]\n",
        "    \n",
        "    # Get the actual and predictions\n",
        "    actual, predictions = item_collaborative_filtering(10, msd_similarity, test, user_item_data)\n",
        "\n",
        "    # Calculate the rmse\n",
        "    rmse_results.append(rmse(actual, predictions))\n",
        "\n",
        "    # Calculate the mae\n",
        "    mae_results.append(mae(actual, predictions))\n",
        "\n",
        "print('\\n\\nRMSE: ', rmse_results)\n",
        "print('Average RMSE: ', np.mean(rmse_results))\n",
        "\n",
        "print('MAE: ', mae_results)\n",
        "print('Average MAE: ', np.mean(mae_results))"
      ]
    },
    {
      "cell_type": "code",
      "execution_count": 3,
      "metadata": {
        "colab": {
          "base_uri": "https://localhost:8080/",
          "height": 295
        },
        "id": "eqAWgqh6U_qq",
        "outputId": "5bfb26a7-f7bb-4089-84d8-10ac54ff2095"
      },
      "outputs": [
        {
          "data": {
            "image/png": "[encoded data removed]",
            "text/plain": [
              "<Figure size 640x480 with 1 Axes>"
            ]
          },
          "metadata": {},
          "output_type": "display_data"
        }
      ],
      "source": [
        "cosine_avg_rmse = 2.16\n",
        "pearson_avg_rmse = 2.29\n",
        "msd_avg_rmse = 2.05\n",
        "\n",
        "plt.bar(['Cosine', 'Pearson', 'MSD'], [cosine_avg_rmse, pearson_avg_rmse, msd_avg_rmse])\n",
        "plt.title('Average RMSE for Item Collaborative Filtering')\n",
        "plt.xlabel('Similarity Measure')\n",
        "plt.ylabel('RMSE')\n",
        "plt.yticks(np.arange(0, 2.3, step=0.1))\n",
        "plt.show()"
      ]
    },
    {
      "cell_type": "code",
      "execution_count": 4,
      "metadata": {
        "colab": {
          "base_uri": "https://localhost:8080/",
          "height": 295
        },
        "id": "8U_BLxwWbRIy",
        "outputId": "7fc93ee7-036a-46fc-b290-7aeba920cc7e"
      },
      "outputs": [
        {
          "data": {
            "image/png": "[encoded data removed]",
            "text/plain": [
              "<Figure size 640x480 with 1 Axes>"
            ]
          },
          "metadata": {},
          "output_type": "display_data"
        }
      ],
      "source": [
        "cosine_avg_mae = 1.81\n",
        "pearson_avg_mae = 1.95\n",
        "msd_avg_mae = 1.64\n",
        "\n",
        "plt.bar(['Cosine', 'Pearson', 'MSD'], [cosine_avg_mae, pearson_avg_mae, msd_avg_mae])\n",
        "plt.title('Average MAE for Item Collaborative Filtering')\n",
        "plt.xlabel('Similarity Measure')\n",
        "plt.ylabel('MAE')\n",
        "plt.yticks(np.arange(0, 2, step=0.1))\n",
        "plt.show()"
      ]
    },
    {
      "cell_type": "code",
      "execution_count": 12,
      "metadata": {
        "id": "-50jcCqK3rf5"
      },
      "outputs": [],
      "source": [
        "# Split the data into train and test\n",
        "_, test = train_test_split(data, test_size=0.2, random_state=42)"
      ]
    },
    {
      "cell_type": "code",
      "execution_count": null,
      "metadata": {
        "colab": {
          "base_uri": "https://localhost:8080/",
          "height": 296
        },
        "id": "ct29hK1G3rf6",
        "outputId": "074852a8-c1ef-43b9-db5e-ae595c96d733"
      },
      "outputs": [
        {
          "name": "stderr",
          "output_type": "stream",
          "text": [
            "100%|██████████| 18/18 [03:51<00:00, 12.85s/it]\n"
          ]
        },
        {
          "data": {
            "image/png": "[encoded data removed]",
            "text/plain": [
              "<Figure size 432x288 with 1 Axes>"
            ]
          },
          "metadata": {
            "needs_background": "light"
          },
          "output_type": "display_data"
        }
      ],
      "source": [
        "# find the best k and plot rmse against k for cosine similarity\n",
        "k_values = [1,2,3,4,5,6,7,8,9, 10, 15, 20, 25, 30, 35, 40, 45, 50]\n",
        "rmse_values = []\n",
        "\n",
        "for k in tqdm(k_values):\n",
        "\n",
        "    # Get the actual and predictions\n",
        "    actual, predictions = item_collaborative_filtering(k, cosine_similarity, test, user_item_data)\n",
        "\n",
        "    # Calculate the rmse\n",
        "    rmse_values.append(rmse(actual, predictions))\n",
        "\n",
        "# Plot the rmse against k\n",
        "plt.plot(k_values, rmse_values)\n",
        "plt.xlabel('k')\n",
        "plt.ylabel('RMSE')\n",
        "plt.xticks(np.arange(0, 50, step=2))\n",
        "plt.rcParams[\"figure.figsize\"] = (10,6)\n",
        "plt.show()"
      ]
    },
    {
      "cell_type": "code",
      "execution_count": null,
      "metadata": {
        "colab": {
          "base_uri": "https://localhost:8080/",
          "height": 408
        },
        "id": "SIpV-uNa3rf6",
        "outputId": "8f3d2188-862b-4071-efc7-62b6bf3d22f0"
      },
      "outputs": [
        {
          "name": "stderr",
          "output_type": "stream",
          "text": [
            "100%|██████████| 18/18 [05:00<00:00, 16.70s/it]\n"
          ]
        },
        {
          "data": {
            "image/png": "[encoded data removed]",
            "text/plain": [
              "<Figure size 720x432 with 1 Axes>"
            ]
          },
          "metadata": {
            "needs_background": "light"
          },
          "output_type": "display_data"
        }
      ],
      "source": [
        "# find the best k and plot rmse against k for pearson correlation\n",
        "k_values = [1,2,3,4,5,6,7,8,9, 10, 15, 20, 25, 30, 35, 40, 45, 50]\n",
        "rmse_values = []\n",
        "\n",
        "for k in tqdm(k_values):\n",
        "\n",
        "    # Get the actual and predictions\n",
        "    actual, predictions = item_collaborative_filtering(k, pearson_similarity, test, user_item_data)\n",
        "\n",
        "    # Calculate the rmse\n",
        "    rmse_values.append(rmse(actual, predictions))\n",
        "\n",
        "# Plot the rmse against k\n",
        "plt.plot(k_values, rmse_values)\n",
        "plt.xlabel('k')\n",
        "plt.ylabel('RMSE')\n",
        "plt.xticks(np.arange(0, 50, step=2))\n",
        "plt.rcParams[\"figure.figsize\"] = (10,6)\n",
        "plt.show()"
      ]
    },
    {
      "cell_type": "code",
      "execution_count": null,
      "metadata": {
        "colab": {
          "base_uri": "https://localhost:8080/",
          "height": 405
        },
        "id": "Pw2A8aOq3rf7",
        "outputId": "8e22e6be-2403-4973-d539-553d801c7b03"
      },
      "outputs": [
        {
          "name": "stderr",
          "output_type": "stream",
          "text": [
            "100%|██████████| 18/18 [04:39<00:00, 15.52s/it]\n"
          ]
        },
        {
          "data": {
            "image/png": "[encoded data removed]",
            "text/plain": [
              "<Figure size 720x432 with 1 Axes>"
            ]
          },
          "metadata": {
            "needs_background": "light"
          },
          "output_type": "display_data"
        }
      ],
      "source": [
        "# find the best k and plot rmse against k for msd\n",
        "k_values = [1,2,3,4,5,6,7,8,9, 10, 15, 20, 25, 30, 35, 40, 45, 50]\n",
        "rmse_values = []\n",
        "\n",
        "for k in tqdm(k_values):\n",
        "\n",
        "    # Get the actual and predictions\n",
        "    actual, predictions = item_collaborative_filtering(k, msd_similarity, test, user_item_data)\n",
        "\n",
        "    # Calculate the rmse\n",
        "    rmse_values.append(rmse(actual, predictions))\n",
        "\n",
        "# Plot the rmse against k\n",
        "plt.plot(k_values, rmse_values)\n",
        "plt.xlabel('k')\n",
        "plt.ylabel('RMSE')\n",
        "plt.xticks(np.arange(0, 50, step=2))\n",
        "plt.rcParams[\"figure.figsize\"] = (10,6)\n",
        "plt.show()"
      ]
    },
    {
      "cell_type": "code",
      "execution_count": null,
      "metadata": {
        "colab": {
          "base_uri": "https://localhost:8080/"
        },
        "id": "8Sy7wZzE3rf8",
        "outputId": "ede74049-4b4c-49ad-8048-d1b3c7095e43"
      },
      "outputs": [
        {
          "name": "stderr",
          "output_type": "stream",
          "text": [
            "5it [01:03, 12.62s/it]"
          ]
        },
        {
          "name": "stdout",
          "output_type": "stream",
          "text": [
            "\n",
            "\n",
            "RMSE:  [2.143788025755459, 2.15145658088995, 2.144375017193516, 2.1344505137356053, 2.1378695981100253]\n",
            "Average RMSE:  2.1423879471369114\n",
            "MAE:  [1.7629286942770017, 1.7717157659977432, 1.7590867196421953, 1.7560551988377784, 1.7540011006574416]\n",
            "Average MAE:  1.760757495882432\n"
          ]
        },
        {
          "name": "stderr",
          "output_type": "stream",
          "text": [
            "\n"
          ]
        }
      ],
      "source": [
        "# 5 fold cross validation for cosine similarity\n",
        "rmse_results = []\n",
        "mae_results = []\n",
        "\n",
        "for train_index, test_index in tqdm(data_splits.split(data)):\n",
        "    train = data.iloc[train_index]\n",
        "    test = data.iloc[test_index]\n",
        "    \n",
        "    # Get the actual and predictions\n",
        "    actual, predictions = item_collaborative_filtering(6, cosine_similarity, test, user_item_data)\n",
        "\n",
        "    # Calculate the rmse\n",
        "    rmse_results.append(rmse(actual, predictions))\n",
        "\n",
        "    # Calculate the mae\n",
        "    mae_results.append(mae(actual, predictions))\n",
        "\n",
        "print('\\n\\nRMSE: ', rmse_results)\n",
        "print('Average RMSE: ', np.mean(rmse_results))\n",
        "\n",
        "print('MAE: ', mae_results)\n",
        "print('Average MAE: ', np.mean(mae_results))"
      ]
    },
    {
      "cell_type": "code",
      "execution_count": null,
      "metadata": {
        "colab": {
          "base_uri": "https://localhost:8080/"
        },
        "id": "b07NoWoq3rf8",
        "outputId": "0d09b116-afc4-4a5b-8433-44c8c3c493f4"
      },
      "outputs": [
        {
          "name": "stderr",
          "output_type": "stream",
          "text": [
            "5it [01:26, 17.32s/it]"
          ]
        },
        {
          "name": "stdout",
          "output_type": "stream",
          "text": [
            "\n",
            "\n",
            "RMSE:  [2.262853955819475, 2.268442734881938, 2.2641786432192927, 2.2556221177102382, 2.2554289673700207]\n",
            "Average RMSE:  2.2613052838001932\n",
            "MAE:  [1.8938858665563076, 1.9030271316020115, 1.8952720443530628, 1.889599701366485, 1.8851014974419464]\n",
            "Average MAE:  1.8933772482639626\n"
          ]
        },
        {
          "name": "stderr",
          "output_type": "stream",
          "text": [
            "\n"
          ]
        }
      ],
      "source": [
        "# 5 fold cross validation for pearson similarity\n",
        "rmse_results = []\n",
        "mae_results = []\n",
        "\n",
        "for train_index, test_index in tqdm(data_splits.split(data)):\n",
        "    train = data.iloc[train_index]\n",
        "    test = data.iloc[test_index]\n",
        "    \n",
        "    # Get the actual and predictions\n",
        "    actual, predictions = item_collaborative_filtering(6, pearson_similarity, test, user_item_data)\n",
        "\n",
        "    # Calculate the rmse\n",
        "    rmse_results.append(rmse(actual, predictions))\n",
        "\n",
        "    # Calculate the mae\n",
        "    mae_results.append(mae(actual, predictions))\n",
        "\n",
        "print('\\n\\nRMSE: ', rmse_results)\n",
        "print('Average RMSE: ', np.mean(rmse_results))\n",
        "\n",
        "print('MAE: ', mae_results)\n",
        "print('Average MAE: ', np.mean(mae_results))"
      ]
    },
    {
      "cell_type": "code",
      "execution_count": null,
      "metadata": {
        "colab": {
          "base_uri": "https://localhost:8080/"
        },
        "id": "SwV1Tq1w3rf9",
        "outputId": "36f051ab-8275-43e8-94b2-58cbf46dfb30"
      },
      "outputs": [
        {
          "name": "stderr",
          "output_type": "stream",
          "text": [
            "5it [01:15, 15.11s/it]"
          ]
        },
        {
          "name": "stdout",
          "output_type": "stream",
          "text": [
            "\n",
            "\n",
            "RMSE:  [2.0105199999365255, 1.9970478480015261, 1.9991519506504445, 1.9886288829009426, 1.9935949373458062]\n",
            "Average RMSE:  1.9977887237670493\n",
            "MAE:  [1.5796795077369026, 1.5634408988820325, 1.5772348864422479, 1.5562764571546746, 1.5618327027525316]\n",
            "Average MAE:  1.5676928905936778\n"
          ]
        },
        {
          "name": "stderr",
          "output_type": "stream",
          "text": [
            "\n"
          ]
        }
      ],
      "source": [
        "# 5 fold cross validation for msd similarity\n",
        "rmse_results = []\n",
        "mae_results = []\n",
        "\n",
        "for train_index, test_index in tqdm(data_splits.split(data)):\n",
        "    train = data.iloc[train_index]\n",
        "    test = data.iloc[test_index]\n",
        "    \n",
        "    # Get the actual and predictions\n",
        "    actual, predictions = item_collaborative_filtering(6, msd_similarity, test, user_item_data)\n",
        "\n",
        "    # Calculate the rmse\n",
        "    rmse_results.append(rmse(actual, predictions))\n",
        "\n",
        "    # Calculate the mae\n",
        "    mae_results.append(mae(actual, predictions))\n",
        "\n",
        "print('\\n\\nRMSE: ', rmse_results)\n",
        "print('Average RMSE: ', np.mean(rmse_results))\n",
        "\n",
        "print('MAE: ', mae_results)\n",
        "print('Average MAE: ', np.mean(mae_results))"
      ]
    }
  ],
  "metadata": {
    "colab": {
      "provenance": []
    },
    "kernelspec": {
      "display_name": "Python 3.10.5 64-bit",
      "language": "python",
      "name": "python3"
    },
    "language_info": {
      "codemirror_mode": {
        "name": "ipython",
        "version": 3
      },
      "file_extension": ".py",
      "mimetype": "text/x-python",
      "name": "python",
      "nbconvert_exporter": "python",
      "pygments_lexer": "ipython3",
      "version": "3.10.5"
    },
    "orig_nbformat": 4,
    "vscode": {
      "interpreter": {
        "hash": "26de051ba29f2982a8de78e945f0abaf191376122a1563185a90213a26c5da77"
      }
    }
  },
  "nbformat": 4,
  "nbformat_minor": 0
}
