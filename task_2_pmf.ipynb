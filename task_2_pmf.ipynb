{
  "cells": [
    {
      "cell_type": "code",
      "execution_count": 22,
      "metadata": {
        "id": "7DM5KSzr6P-C"
      },
      "outputs": [],
      "source": [
        "# Probabilistic Matrix Factorization implementation using PyTorch\n",
        "\n",
        "import numpy as np\n",
        "import pandas as pd\n",
        "import torch\n",
        "import torch.nn as nn\n",
        "import torch.optim as optim\n",
        "from torch.utils.data import Dataset, DataLoader\n",
        "from sklearn.model_selection import train_test_split\n",
        "from sklearn.metrics import mean_squared_error, mean_absolute_error\n",
        "from math import sqrt\n",
        "import matplotlib.pyplot as plt\n",
        "import time\n",
        "from tqdm import tqdm\n",
        "from sklearn.model_selection import KFold"
      ]
    },
    {
      "cell_type": "code",
      "execution_count": 5,
      "metadata": {
        "colab": {
          "base_uri": "https://localhost:8080/",
          "height": 206
        },
        "id": "qjkmveEc6P-H",
        "outputId": "b88e385e-54bb-414f-ec9b-140494d3ff0e"
      },
      "outputs": [
        {
          "data": {
            "text/html": [
              "\n",
              "  <div id=\"df-1e45fd4a-5e4c-486c-8781-6b02fd0a0e97\">\n",
              "    <div class=\"colab-df-container\">\n",
              "      <div>\n",
              "<style scoped>\n",
              "    .dataframe tbody tr th:only-of-type {\n",
              "        vertical-align: middle;\n",
              "    }\n",
              "\n",
              "    .dataframe tbody tr th {\n",
              "        vertical-align: top;\n",
              "    }\n",
              "\n",
              "    .dataframe thead th {\n",
              "        text-align: right;\n",
              "    }\n",
              "</style>\n",
              "<table border=\"1\" class=\"dataframe\">\n",
              "  <thead>\n",
              "    <tr style=\"text-align: right;\">\n",
              "      <th></th>\n",
              "      <th>userId</th>\n",
              "      <th>movieId</th>\n",
              "      <th>rating</th>\n",
              "    </tr>\n",
              "  </thead>\n",
              "  <tbody>\n",
              "    <tr>\n",
              "      <th>0</th>\n",
              "      <td>1</td>\n",
              "      <td>31</td>\n",
              "      <td>2.5</td>\n",
              "    </tr>\n",
              "    <tr>\n",
              "      <th>1</th>\n",
              "      <td>1</td>\n",
              "      <td>1029</td>\n",
              "      <td>3.0</td>\n",
              "    </tr>\n",
              "    <tr>\n",
              "      <th>2</th>\n",
              "      <td>1</td>\n",
              "      <td>1061</td>\n",
              "      <td>3.0</td>\n",
              "    </tr>\n",
              "    <tr>\n",
              "      <th>3</th>\n",
              "      <td>1</td>\n",
              "      <td>1129</td>\n",
              "      <td>2.0</td>\n",
              "    </tr>\n",
              "    <tr>\n",
              "      <th>4</th>\n",
              "      <td>1</td>\n",
              "      <td>1172</td>\n",
              "      <td>4.0</td>\n",
              "    </tr>\n",
              "  </tbody>\n",
              "</table>\n",
              "</div>\n",
              "      <button class=\"colab-df-convert\" onclick=\"convertToInteractive('df-1e45fd4a-5e4c-486c-8781-6b02fd0a0e97')\"\n",
              "              title=\"Convert this dataframe to an interactive table.\"\n",
              "              style=\"display:none;\">\n",
              "        \n",
              "  <svg xmlns=\"http://www.w3.org/2000/svg\" height=\"24px\"viewBox=\"0 0 24 24\"\n",
              "       width=\"24px\">\n",
              "    <path d=\"M0 0h24v24H0V0z\" fill=\"none\"/>\n",
              "    <path d=\"M18.56 5.44l.94 2.06.94-2.06 2.06-.94-2.06-.94-.94-2.06-.94 2.06-2.06.94zm-11 1L8.5 8.5l.94-2.06 2.06-.94-2.06-.94L8.5 2.5l-.94 2.06-2.06.94zm10 10l.94 2.06.94-2.06 2.06-.94-2.06-.94-.94-2.06-.94 2.06-2.06.94z\"/><path d=\"M17.41 7.96l-1.37-1.37c-.4-.4-.92-.59-1.43-.59-.52 0-1.04.2-1.43.59L10.3 9.45l-7.72 7.72c-.78.78-.78 2.05 0 2.83L4 21.41c.39.39.9.59 1.41.59.51 0 1.02-.2 1.41-.59l7.78-7.78 2.81-2.81c.8-.78.8-2.07 0-2.86zM5.41 20L4 18.59l7.72-7.72 1.47 1.35L5.41 20z\"/>\n",
              "  </svg>\n",
              "      </button>\n",
              "      \n",
              "  <style>\n",
              "    .colab-df-container {\n",
              "      display:flex;\n",
              "      flex-wrap:wrap;\n",
              "      gap: 12px;\n",
              "    }\n",
              "\n",
              "    .colab-df-convert {\n",
              "      background-color: #E8F0FE;\n",
              "      border: none;\n",
              "      border-radius: 50%;\n",
              "      cursor: pointer;\n",
              "      display: none;\n",
              "      fill: #1967D2;\n",
              "      height: 32px;\n",
              "      padding: 0 0 0 0;\n",
              "      width: 32px;\n",
              "    }\n",
              "\n",
              "    .colab-df-convert:hover {\n",
              "      background-color: #E2EBFA;\n",
              "      box-shadow: 0px 1px 2px rgba(60, 64, 67, 0.3), 0px 1px 3px 1px rgba(60, 64, 67, 0.15);\n",
              "      fill: #174EA6;\n",
              "    }\n",
              "\n",
              "    [theme=dark] .colab-df-convert {\n",
              "      background-color: #3B4455;\n",
              "      fill: #D2E3FC;\n",
              "    }\n",
              "\n",
              "    [theme=dark] .colab-df-convert:hover {\n",
              "      background-color: #434B5C;\n",
              "      box-shadow: 0px 1px 3px 1px rgba(0, 0, 0, 0.15);\n",
              "      filter: drop-shadow(0px 1px 2px rgba(0, 0, 0, 0.3));\n",
              "      fill: #FFFFFF;\n",
              "    }\n",
              "  </style>\n",
              "\n",
              "      <script>\n",
              "        const buttonEl =\n",
              "          document.querySelector('#df-1e45fd4a-5e4c-486c-8781-6b02fd0a0e97 button.colab-df-convert');\n",
              "        buttonEl.style.display =\n",
              "          google.colab.kernel.accessAllowed ? 'block' : 'none';\n",
              "\n",
              "        async function convertToInteractive(key) {\n",
              "          const element = document.querySelector('#df-1e45fd4a-5e4c-486c-8781-6b02fd0a0e97');\n",
              "          const dataTable =\n",
              "            await google.colab.kernel.invokeFunction('convertToInteractive',\n",
              "                                                     [key], {});\n",
              "          if (!dataTable) return;\n",
              "\n",
              "          const docLinkHtml = 'Like what you see? Visit the ' +\n",
              "            '<a target=\"_blank\" href=https://colab.research.google.com/notebooks/data_table.ipynb>data table notebook</a>'\n",
              "            + ' to learn more about interactive tables.';\n",
              "          element.innerHTML = '';\n",
              "          dataTable['output_type'] = 'display_data';\n",
              "          await google.colab.output.renderOutput(dataTable, element);\n",
              "          const docLink = document.createElement('div');\n",
              "          docLink.innerHTML = docLinkHtml;\n",
              "          element.appendChild(docLink);\n",
              "        }\n",
              "      </script>\n",
              "    </div>\n",
              "  </div>\n",
              "  "
            ],
            "text/plain": [
              "   userId  movieId  rating\n",
              "0       1       31     2.5\n",
              "1       1     1029     3.0\n",
              "2       1     1061     3.0\n",
              "3       1     1129     2.0\n",
              "4       1     1172     4.0"
            ]
          },
          "execution_count": 5,
          "metadata": {},
          "output_type": "execute_result"
        }
      ],
      "source": [
        "# Load the data\n",
        "data = pd.read_csv('ratings_small.csv')\n",
        "data = data.drop('timestamp', axis=1)\n",
        "data.head()"
      ]
    },
    {
      "cell_type": "code",
      "execution_count": null,
      "metadata": {
        "id": "x3n42D4h7RiH"
      },
      "outputs": [],
      "source": [
        "# Split the data into train and test\n",
        "train, test = train_test_split(data, test_size=0.2, random_state=42)"
      ]
    },
    {
      "cell_type": "code",
      "execution_count": 7,
      "metadata": {
        "id": "R7Jpi-QD6P-J"
      },
      "outputs": [],
      "source": [
        "# Create a class for the dataset\n",
        "class MoviesDataset(Dataset):\n",
        "    def __init__(self, data):\n",
        "        self.data = data\n",
        "\n",
        "    def __len__(self):\n",
        "        return len(self.data)\n",
        "\n",
        "    def __getitem__(self, idx):\n",
        "        user_id = self.data.iloc[idx, 0]\n",
        "        movie_id = self.data.iloc[idx, 1]\n",
        "        rating = self.data.iloc[idx, 2].astype(np.float32)\n",
        "        return user_id, movie_id, rating\n",
        "\n",
        "# Create the dataset\n",
        "train_dataset = MoviesDataset(train)\n",
        "test_dataset = MoviesDataset(test)"
      ]
    },
    {
      "cell_type": "code",
      "execution_count": 8,
      "metadata": {
        "id": "ufACHZTd6P-K"
      },
      "outputs": [],
      "source": [
        "# Create the dataloaders\n",
        "train_loader = DataLoader(train_dataset, batch_size=64, shuffle=True)\n",
        "test_loader = DataLoader(test_dataset, batch_size=64, shuffle=True)"
      ]
    },
    {
      "cell_type": "code",
      "execution_count": 9,
      "metadata": {
        "id": "M8jOCRX26P-K"
      },
      "outputs": [],
      "source": [
        "# Create the model\n",
        "class PMF(nn.Module):\n",
        "    def __init__(self, total_users, total_movies, latent_factors):\n",
        "        super(PMF, self).__init__()\n",
        "        self.total_users = total_users\n",
        "        self.total_movies = total_movies\n",
        "        self.latent_factors = latent_factors\n",
        "\n",
        "        self.user_embeddings = nn.Embedding(self.total_users, self.latent_factors)\n",
        "        self.movie_embeddings = nn.Embedding(self.total_movies, self.latent_factors)\n",
        "\n",
        "    def forward(self, user_id, movie_id):\n",
        "        user_embedding = self.user_embeddings(user_id)\n",
        "        movie_embedding = self.movie_embeddings(movie_id)\n",
        "        output = torch.mul(user_embedding, movie_embedding)\n",
        "        output = torch.sum(output, dim=1)\n",
        "\n",
        "        return output"
      ]
    },
    {
      "cell_type": "code",
      "execution_count": 10,
      "metadata": {
        "id": "uFwdoN5w6P-L"
      },
      "outputs": [],
      "source": [
        "device = torch.device(\"cuda:0\" if torch.cuda.is_available() else \"cpu\")"
      ]
    },
    {
      "cell_type": "code",
      "execution_count": 11,
      "metadata": {
        "id": "ODHOKG4p6P-L"
      },
      "outputs": [],
      "source": [
        "# total users\n",
        "total_users = max(data['userId']) + 1\n",
        "\n",
        "# total movies\n",
        "total_movies = max(data['movieId']) + 1"
      ]
    },
    {
      "cell_type": "code",
      "execution_count": 12,
      "metadata": {
        "id": "bXGeRBmH6P-M"
      },
      "outputs": [],
      "source": [
        "def model_setup(total_users, total_movies, latent_factors):\n",
        "    model = PMF(total_users, total_movies, latent_factors)\n",
        "    criterion = nn.MSELoss()\n",
        "    \n",
        "    # Optimizer with l2 regularization\n",
        "    optimizer = optim.Adam(model.parameters(), lr=0.001, weight_decay=0.001)\n",
        "\n",
        "    model.to(device)\n",
        "\n",
        "    return model, criterion, optimizer"
      ]
    },
    {
      "cell_type": "code",
      "execution_count": 13,
      "metadata": {
        "id": "3mwG8V7g6P-N"
      },
      "outputs": [],
      "source": [
        "# Train the model\n",
        "def train_model(model, train_loader, test_loader, criterion, optimizer, epochs=10):\n",
        "    train_losses = []\n",
        "    test_losses = []\n",
        "    for epoch in range(epochs):\n",
        "        train_loss = 0.0\n",
        "        test_loss = 0.0\n",
        "        model.train()\n",
        "        # start time for epoch\n",
        "        start = time.time()\n",
        "        for user_id, movie_id, rating in train_loader:\n",
        "            optimizer.zero_grad()\n",
        "            user_id = user_id.to(device)\n",
        "            movie_id = movie_id.to(device)\n",
        "            rating = rating.to(device)\n",
        "            \n",
        "            output = model(user_id, movie_id)\n",
        "\n",
        "            loss = criterion(output, rating)\n",
        "            loss.backward()\n",
        "            optimizer.step()\n",
        "            train_loss += loss.item() * rating.size(0)\n",
        "        train_loss = train_loss / len(train_loader.sampler)\n",
        "        train_losses.append(train_loss)\n",
        "\n",
        "        model.eval()\n",
        "        for user_id, movie_id, rating in test_loader:\n",
        "            user_id = user_id.to(device)\n",
        "            movie_id = movie_id.to(device)\n",
        "            rating = rating.to(device)\n",
        "            output = model(user_id, movie_id)\n",
        "            loss = criterion(output, rating)\n",
        "            test_loss += loss.item() * rating.size(0)\n",
        "        test_loss = test_loss / len(test_loader.sampler)\n",
        "        test_losses.append(test_loss)\n",
        "\n",
        "    return train_losses, test_losses  "
      ]
    },
    {
      "cell_type": "code",
      "execution_count": 14,
      "metadata": {
        "id": "MEpA0lpv6P-N"
      },
      "outputs": [],
      "source": [
        "# RMSE\n",
        "def rmse(actual, predictions):\n",
        "    return sqrt(mean_squared_error(actual, predictions))"
      ]
    },
    {
      "cell_type": "code",
      "execution_count": 15,
      "metadata": {
        "id": "BoI2VHKY6P-O"
      },
      "outputs": [],
      "source": [
        "# MAE\n",
        "def mae(actual, predictions):\n",
        "    return mean_absolute_error(actual, predictions)"
      ]
    },
    {
      "cell_type": "code",
      "execution_count": 16,
      "metadata": {
        "id": "ovB2F_Cy6P-O"
      },
      "outputs": [],
      "source": [
        "def evaluate_pmf(model, test_loader):\n",
        "    model.eval()\n",
        "    predictions = []\n",
        "    actual = []\n",
        "    for user_id, movie_id, rating in test_loader:\n",
        "        user_id = user_id.to(device)\n",
        "        movie_id = movie_id.to(device)\n",
        "        rating = rating.to(device)\n",
        "        output = model(user_id, movie_id)\n",
        "        predictions.extend(output.cpu().detach().numpy())\n",
        "        actual.extend(rating.cpu().detach().numpy())\n",
        "    \n",
        "    rmse_pred = rmse(actual, predictions)\n",
        "    mae_pred = mae(actual, predictions)\n",
        "    return rmse_pred, mae_pred"
      ]
    },
    {
      "cell_type": "code",
      "execution_count": 17,
      "metadata": {
        "colab": {
          "base_uri": "https://localhost:8080/",
          "height": 298
        },
        "id": "PNp9pfe_6P-O",
        "outputId": "fc7bca7c-a344-4134-9ecd-48f5e38c858c"
      },
      "outputs": [
        {
          "name": "stderr",
          "output_type": "stream",
          "text": [
            "100%|██████████| 10/10 [19:10<00:00, 115.07s/it]\n"
          ]
        },
        {
          "data": {
            "image/png": "[encoded data removed]",
            "text/plain": [
              "<Figure size 432x288 with 1 Axes>"
            ]
          },
          "metadata": {
            "needs_background": "light"
          },
          "output_type": "display_data"
        }
      ],
      "source": [
        "# calculate rmse and mae for different latent factors and plot the results\n",
        "latent_factors = [5, 10, 15, 20, 25, 30, 35, 40, 45, 50]\n",
        "rmse_results = []\n",
        "mae_results = []\n",
        "for latent_factor in tqdm(latent_factors):\n",
        "    model, criterion, optimizer = model_setup(total_users, total_movies, latent_factor)\n",
        "    train_model(model, train_loader, test_loader, criterion, optimizer, epochs=10)\n",
        "    rmse_pred, mae_pred = evaluate_pmf(model, test_loader)\n",
        "    rmse_results.append(rmse_pred)\n",
        "    mae_results.append(mae_pred)\n",
        "\n",
        "# plot the results\n",
        "plt.plot(latent_factors, rmse_results, label='RMSE')\n",
        "plt.plot(latent_factors, mae_results, label='MAE')\n",
        "plt.xlabel('Latent Factors')\n",
        "plt.ylabel('RMSE/MAE')\n",
        "plt.legend()\n",
        "plt.show()"
      ]
    },
    {
      "cell_type": "code",
      "execution_count": 26,
      "metadata": {
        "colab": {
          "base_uri": "https://localhost:8080/",
          "height": 404
        },
        "id": "jeKymQPt7WJ7",
        "outputId": "02c21cc7-f285-4d32-eae2-0429cb242cc6"
      },
      "outputs": [
        {
          "name": "stderr",
          "output_type": "stream",
          "text": [
            "5it [14:48, 177.67s/it]"
          ]
        },
        {
          "name": "stdout",
          "output_type": "stream",
          "text": [
            "\n",
            "\n",
            "RMSE:  [1.7534366650223294, 1.798481231608492, 1.766670187760689, 1.7259434069066704, 1.7611390236301558]\n",
            "Average RMSE:  1.7611341029856675\n",
            "MAE:  [1.4055008, 1.4492147, 1.4195558, 1.3783207, 1.4102627]\n",
            "Average MAE:  1.4125708\n"
          ]
        },
        {
          "name": "stderr",
          "output_type": "stream",
          "text": [
            "\n"
          ]
        },
        {
          "data": {
            "image/png": "[encoded data removed]",
            "text/plain": [
              "<Figure size 432x288 with 1 Axes>"
            ]
          },
          "metadata": {
            "needs_background": "light"
          },
          "output_type": "display_data"
        }
      ],
      "source": [
        "# train model with 10 latent factors for 20 epochs with 5 fold crossvalidation\n",
        "data_splits = KFold(n_splits=5, shuffle=True, random_state=42)\n",
        "rmse_results = []\n",
        "mae_results = []\n",
        "\n",
        "for train_index, test_index in tqdm(data_splits.split(data)):\n",
        "    train_data = data.iloc[train_index]\n",
        "    test_data = data.iloc[test_index]\n",
        "    train_dataset = MoviesDataset(train_data)\n",
        "    test_dataset = MoviesDataset(test_data)\n",
        "    train_loader = DataLoader(train_dataset, batch_size=128, shuffle=True)\n",
        "    test_loader = DataLoader(test_dataset, batch_size=128, shuffle=True)\n",
        "    model, criterion, optimizer = model_setup(total_users, total_movies, 10)\n",
        "    train_losses, test_losses = train_model(model, train_loader, test_loader, criterion, optimizer, epochs=20)\n",
        "    rmse_pred, mae_pred = evaluate_pmf(model, test_loader)\n",
        "    rmse_results.append(rmse_pred)\n",
        "    mae_results.append(mae_pred)\n",
        "\n",
        "print('\\n\\nRMSE: ', rmse_results)\n",
        "print('Average RMSE: ', np.mean(rmse_results))\n",
        "\n",
        "print('MAE: ', mae_results)\n",
        "print('Average MAE: ', np.mean(mae_results))\n",
        "\n",
        "# plot the loss\n",
        "plt.plot(train_losses, label='Train Loss')\n",
        "plt.plot(test_losses, label='Test Loss')\n",
        "plt.xlabel('Epochs')\n",
        "plt.ylabel('Loss')\n",
        "plt.legend()\n",
        "plt.show()"
      ]
    }
  ],
  "metadata": {
    "accelerator": "GPU",
    "colab": {
      "provenance": []
    },
    "gpuClass": "standard",
    "kernelspec": {
      "display_name": "Python 3.10.5 64-bit",
      "language": "python",
      "name": "python3"
    },
    "language_info": {
      "codemirror_mode": {
        "name": "ipython",
        "version": 3
      },
      "file_extension": ".py",
      "mimetype": "text/x-python",
      "name": "python",
      "nbconvert_exporter": "python",
      "pygments_lexer": "ipython3",
      "version": "3.10.5"
    },
    "orig_nbformat": 4,
    "vscode": {
      "interpreter": {
        "hash": "26de051ba29f2982a8de78e945f0abaf191376122a1563185a90213a26c5da77"
      }
    }
  },
  "nbformat": 4,
  "nbformat_minor": 0
}
